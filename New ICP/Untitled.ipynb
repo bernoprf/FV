{
 "cells": [
  {
   "cell_type": "code",
   "execution_count": 1,
   "metadata": {
    "ExecuteTime": {
     "end_time": "2020-02-14T13:21:03.665405Z",
     "start_time": "2020-02-14T13:21:02.571262Z"
    }
   },
   "outputs": [],
   "source": [
    "import os\n",
    "import glob\n",
    "from datetime import datetime, timedelta\n",
    "\n",
    "import pandas as pd\n",
    "import numpy as np\n",
    "import math\n",
    "from decimal import Decimal\n",
    "import collections\n",
    "import time\n",
    "import utm\n",
    "\n",
    "import string\n",
    "import csv\n",
    "import xlrd"
   ]
  },
  {
   "cell_type": "code",
   "execution_count": 2,
   "metadata": {
    "ExecuteTime": {
     "end_time": "2020-02-14T13:22:05.823205Z",
     "start_time": "2020-02-14T13:22:05.812210Z"
    }
   },
   "outputs": [
    {
     "name": "stdout",
     "output_type": "stream",
     "text": [
      "./TOP 11 PUERTOS (NUEVO)/SERVICIOS\\ALGECIRAS SERVICIOS 69 FCL.xls\n",
      "./TOP 11 PUERTOS (NUEVO)/SERVICIOS\\BARCELONA SERVICIOS 55 FCL.xls\n",
      "./TOP 11 PUERTOS (NUEVO)/SERVICIOS\\FOS FUR MER SERVICES 27 FCL.xls\n",
      "./TOP 11 PUERTOS (NUEVO)/SERVICIOS\\GENOA SERVICES 48 FCL.xls\n",
      "./TOP 11 PUERTOS (NUEVO)/SERVICIOS\\GIOIA TAURO SERVICIOS 27 FCL.xls\n",
      "./TOP 11 PUERTOS (NUEVO)/SERVICIOS\\LA SPEZIA SERVICIOS 21 FCL.xls\n",
      "./TOP 11 PUERTOS (NUEVO)/SERVICIOS\\MARSAXLOKK SERVICIOS 26 FCL.xls\n",
      "./TOP 11 PUERTOS (NUEVO)/SERVICIOS\\PIRAEUS SERVICIOS 71 FCL.xls\n",
      "./TOP 11 PUERTOS (NUEVO)/SERVICIOS\\SINES SERVICIOS 18 FCL.xls\n",
      "./TOP 11 PUERTOS (NUEVO)/SERVICIOS\\TANGER MED SERVICES 58 FCL.xls\n",
      "./TOP 11 PUERTOS (NUEVO)/SERVICIOS\\VALECIA SERVICES 72 FCL.xls\n"
     ]
    }
   ],
   "source": [
    "ports = glob.glob('./TOP 11 PUERTOS (NUEVO)/SERVICIOS/*FCL.xls')                      # read all port files\n",
    "\n",
    "for each in ports:\n",
    "    print(each)"
   ]
  },
  {
   "cell_type": "code",
   "execution_count": 3,
   "metadata": {
    "ExecuteTime": {
     "end_time": "2020-02-14T13:22:31.939184Z",
     "start_time": "2020-02-14T13:22:31.933190Z"
    }
   },
   "outputs": [
    {
     "name": "stdout",
     "output_type": "stream",
     "text": [
      "./TOP 11 PUERTOS (NUEVO)/SERVICIOS\\ALGECIRAS SERVICIOS 69 FCL.xls\n",
      "./TOP 11 PUERTOS (NUEVO)/SERVICIOS\\BARCELONA SERVICIOS 55 FCL.xls\n",
      "./TOP 11 PUERTOS (NUEVO)/SERVICIOS\\FOS FUR MER SERVICES 27 FCL.xls\n",
      "./TOP 11 PUERTOS (NUEVO)/SERVICIOS\\GENOA SERVICES 48 FCL.xls\n",
      "./TOP 11 PUERTOS (NUEVO)/SERVICIOS\\GIOIA TAURO SERVICIOS 27 FCL.xls\n",
      "./TOP 11 PUERTOS (NUEVO)/SERVICIOS\\LA SPEZIA SERVICIOS 21 FCL.xls\n",
      "./TOP 11 PUERTOS (NUEVO)/SERVICIOS\\MARSAXLOKK SERVICIOS 26 FCL.xls\n",
      "./TOP 11 PUERTOS (NUEVO)/SERVICIOS\\PIRAEUS SERVICIOS 71 FCL.xls\n",
      "./TOP 11 PUERTOS (NUEVO)/SERVICIOS\\SINES SERVICIOS 18 FCL.xls\n",
      "./TOP 11 PUERTOS (NUEVO)/SERVICIOS\\TANGER MED SERVICES 58 FCL.xls\n",
      "./TOP 11 PUERTOS (NUEVO)/SERVICIOS\\VALECIA SERVICES 72 FCL.xls\n"
     ]
    }
   ],
   "source": [
    "for each in glob.glob('./TOP 11 PUERTOS (NUEVO)/SERVICIOS/*FCL.xls'):\n",
    "    print(each)"
   ]
  },
  {
   "cell_type": "code",
   "execution_count": null,
   "metadata": {},
   "outputs": [],
   "source": []
  }
 ],
 "metadata": {
  "kernelspec": {
   "display_name": "Python 3",
   "language": "python",
   "name": "python3"
  },
  "language_info": {
   "codemirror_mode": {
    "name": "ipython",
    "version": 3
   },
   "file_extension": ".py",
   "mimetype": "text/x-python",
   "name": "python",
   "nbconvert_exporter": "python",
   "pygments_lexer": "ipython3",
   "version": "3.7.4"
  },
  "toc": {
   "base_numbering": 1,
   "nav_menu": {},
   "number_sections": true,
   "sideBar": true,
   "skip_h1_title": false,
   "title_cell": "Table of Contents",
   "title_sidebar": "Contents",
   "toc_cell": false,
   "toc_position": {},
   "toc_section_display": true,
   "toc_window_display": false
  },
  "varInspector": {
   "cols": {
    "lenName": 16,
    "lenType": 16,
    "lenVar": 40
   },
   "kernels_config": {
    "python": {
     "delete_cmd_postfix": "",
     "delete_cmd_prefix": "del ",
     "library": "var_list.py",
     "varRefreshCmd": "print(var_dic_list())"
    },
    "r": {
     "delete_cmd_postfix": ") ",
     "delete_cmd_prefix": "rm(",
     "library": "var_list.r",
     "varRefreshCmd": "cat(var_dic_list()) "
    }
   },
   "types_to_exclude": [
    "module",
    "function",
    "builtin_function_or_method",
    "instance",
    "_Feature"
   ],
   "window_display": false
  }
 },
 "nbformat": 4,
 "nbformat_minor": 2
}
